{
 "cells": [
  {
   "cell_type": "code",
   "execution_count": 60,
   "metadata": {},
   "outputs": [],
   "source": [
    "import pandas as pd\n",
    "import numpy as np"
   ]
  },
  {
   "cell_type": "code",
   "execution_count": 61,
   "metadata": {},
   "outputs": [],
   "source": [
    "class func_x_endpoints:\n",
    "    def PlayTimeGenre(self, genero: str):\n",
    "        # Filtrar juegos por género\n",
    "        games_gnr = pd.DataFrame(pd.read_parquet(\"./data_transformed/games.parquet\")).explode('genres')\n",
    "        games_gnr = games_gnr[games_gnr['genres'] == genero]\n",
    "        res = pd.merge(pd.DataFrame(pd.read_parquet(\"./data_transformed/user_items.parquet\")), games_gnr, left_on='item_name', right_on='app_name', how='inner')\n",
    "        res = res[res['release_date'] != 'Unknown']\n",
    "        res['release_date'] = pd.to_datetime(res['release_date'])\n",
    "        res_group = res[['release_date', 'playtime_forever']]\n",
    "        res_group = res_group.groupby(pd.Grouper(key='release_date', freq='YE')).sum().reset_index()\n",
    "        res_group = res_group.sort_values(by='playtime_forever', ascending=False)\n",
    "        return {f\"Año de lanzamiento con más horas jugadas para el Género {genero}\": res_group['release_date'].iloc[0].year}\n",
    "    def UserForGenre(self, genero: str):\n",
    "        # Explorar los géneros para obtener un DataFrame con cada juego repetido por cada género al que pertenece\n",
    "        games_gnr = pd.DataFrame(pd.read_parquet(\"./data_transformed/games.parquet\")).explode('genres')\n",
    "        # Filtrar los juegos por el género específico proporcionado como argumento\n",
    "        games_gnr = games_gnr[games_gnr['genres'] == genero]\n",
    "        \n",
    "        # Fusionar los DataFrames de los elementos de usuario y juegos basados en el nombre del juego y la aplicación\n",
    "        games_gnr = pd.merge(pd.DataFrame(pd.read_parquet(\"./data_transformed/user_items.parquet\")), games_gnr, left_on='item_name', right_on='app_name', how='inner')\n",
    "        \n",
    "        # Filtrar las fechas de lanzamiento desconocidas y convertirlas al tipo de datos datetime\n",
    "        games_gnr = games_gnr[games_gnr['release_date'] != 'Unknown']\n",
    "        games_gnr['release_date'] = pd.to_datetime(games_gnr['release_date'])\n",
    "        \n",
    "        # Agrupar por steam_id y año de la fecha de lanzamiento, sumar las horas jugadas y restablecer el índice\n",
    "        games_gnr = games_gnr[['user_id', 'steam_id', 'release_date', 'playtime_forever']]\n",
    "        games_gnr = games_gnr.groupby(['steam_id', 'user_id', pd.Grouper(key='release_date', freq='YE')]).sum().reset_index()\n",
    "        \n",
    "        # Agrupar por steam_id, sumar las horas jugadas y restablecer el índice\n",
    "        user_rank = games_gnr[['user_id', 'steam_id', 'playtime_forever']]\n",
    "        user_rank = user_rank.groupby(['user_id', 'steam_id']).sum().reset_index()\n",
    "        \n",
    "        # Ordenar por horas jugadas en orden descendente y seleccionar la primera fila\n",
    "        user_rank = user_rank.sort_values(by='playtime_forever', ascending=False)\n",
    "        user_rank = user_rank.iloc[0]\n",
    "        \n",
    "        # Obtener el DataFrame del usuario con más horas jugadas\n",
    "        user_year = games_gnr[games_gnr['steam_id'] == user_rank['steam_id']]\n",
    "        # Extraer el año de la fecha de lanzamiento y convertirla a año\n",
    "        user_year['release_date'] = user_year['release_date'].dt.year\n",
    "        \n",
    "        # Convertir el DataFrame con el año como clave y las horas jugadas como valor\n",
    "        dicc_playtime = user_year.set_index('release_date')['playtime_forever'].to_dict()\n",
    "        \n",
    "        # # Crear una lista de diccionarios con el año y las horas jugadas\n",
    "        list_dicc = [{'Año': fecha, 'Horas': horas} for fecha, horas in dicc_playtime.items()]\n",
    "        # Devolver un diccionario con el usuario con más horas jugadas para el género dado y las horas jugadas por año\n",
    "        return  {f'Usuario con más horas jugadas para Género X {genero}': user_rank['user_id'], 'Horas jugadas': list_dicc}\n",
    "    def UsersRecommend(self, año: int):\n",
    "        reviews = pd.DataFrame(pd.read_parquet(\"./data_transformed/reviews.parquet\"))\n",
    "        reviews = reviews[reviews['posted'].dt.year == año]\n",
    "        cond = (reviews['recommend'] == True) & (reviews['feeling'] >= 1)\n",
    "        reviews = reviews[cond]\n",
    "        rank_games = reviews['item_id'].value_counts().iloc[0:3].to_frame()\n",
    "        rank_games = pd.merge(rank_games, pd.DataFrame(pd.read_parquet(\"./data_transformed/user_items.parquet\")), on='item_id', how='left')\n",
    "        rank_games = rank_games['item_name'].unique()\n",
    "        res = [{\"Puesto \" + str(i+1): valor} for i, valor in enumerate(rank_games)]\n",
    "        return res\n",
    "    def UsersNotRecommend(self, año: int):\n",
    "        reviews = pd.DataFrame(pd.read_parquet(\"./data_transformed/reviews.parquet\"))\n",
    "        reviews = reviews[reviews['posted'].dt.year == año]\n",
    "        cond = (reviews['recommend'] == False) & (reviews['feeling'] == 0)\n",
    "        reviews = reviews[cond]\n",
    "        rank_games = reviews['item_id'].value_counts().iloc[0:3].to_frame()\n",
    "        rank_games = pd.merge(rank_games, pd.DataFrame(pd.read_parquet(\"./data_transformed/user_items.parquet\")), on='item_id', how='left')\n",
    "        rank_games = rank_games['item_name'].unique()\n",
    "        res = [{\"Puesto \" + str(i+1): valor} for i, valor in enumerate(rank_games)]\n",
    "        return res\n",
    "    def sentiment_analysis(self, año: int):\n",
    "        games = pd.DataFrame(pd.read_parquet(\"./data_transformed/games.parquet\"))\n",
    "        games = games[games['release_date'] != 'Unknown']\n",
    "        games = games[pd.to_datetime(games['release_date']).dt.year == año]\n",
    "        games_plus = pd.merge(games, pd.DataFrame(pd.read_parquet(\"./data_transformed/user_items.parquet\")), left_on='app_name', right_on='item_name', how='left')\n",
    "        games_plus = pd.merge(games_plus, pd.DataFrame(pd.read_parquet(\"./data_transformed/reviews.parquet\")), on='item_id', how='left')\n",
    "        count_dict = games_plus['feeling'].value_counts().to_dict()\n",
    "        count_dict = {\n",
    "            'Negative': count_dict.get(0),\n",
    "            'Neutral': count_dict.get(1),\n",
    "            'Positive': count_dict.get(2)\n",
    "        }\n",
    "        return count_dict"
   ]
  },
  {
   "cell_type": "code",
   "execution_count": 63,
   "metadata": {},
   "outputs": [
    {
     "name": "stdout",
     "output_type": "stream",
     "text": [
      "{'Año de lanzamiento con más horas jugadas para el Género Action': 2012}\n"
     ]
    },
    {
     "name": "stderr",
     "output_type": "stream",
     "text": [
      "C:\\Users\\Luka\\AppData\\Local\\Temp\\ipykernel_9804\\922612834.py:41: SettingWithCopyWarning: \n",
      "A value is trying to be set on a copy of a slice from a DataFrame.\n",
      "Try using .loc[row_indexer,col_indexer] = value instead\n",
      "\n",
      "See the caveats in the documentation: https://pandas.pydata.org/pandas-docs/stable/user_guide/indexing.html#returning-a-view-versus-a-copy\n",
      "  user_year['release_date'] = user_year['release_date'].dt.year\n"
     ]
    },
    {
     "name": "stdout",
     "output_type": "stream",
     "text": [
      "{'Usuario con más horas jugadas para Género X Action': 'shinomegami', 'Horas jugadas': [{'Año': 1988, 'Horas': 136}, {'Año': 1990, 'Horas': 0}, {'Año': 1991, 'Horas': 0}, {'Año': 1992, 'Horas': 0}, {'Año': 1993, 'Horas': 0}, {'Año': 1994, 'Horas': 0}, {'Año': 1995, 'Horas': 2}, {'Año': 1996, 'Horas': 1161}, {'Año': 1997, 'Horas': 99}, {'Año': 1998, 'Horas': 3716}, {'Año': 1999, 'Horas': 303}, {'Año': 2000, 'Horas': 10775}, {'Año': 2001, 'Horas': 2429}, {'Año': 2002, 'Horas': 0}, {'Año': 2003, 'Horas': 532756}, {'Año': 2004, 'Horas': 120}, {'Año': 2005, 'Horas': 343}, {'Año': 2006, 'Horas': 2043}, {'Año': 2007, 'Horas': 68354}, {'Año': 2008, 'Horas': 180}, {'Año': 2009, 'Horas': 209805}, {'Año': 2010, 'Horas': 9405}, {'Año': 2011, 'Horas': 89382}, {'Año': 2012, 'Horas': 18284}, {'Año': 2013, 'Horas': 148625}, {'Año': 2014, 'Horas': 92080}, {'Año': 2015, 'Horas': 102197}, {'Año': 2016, 'Horas': 42563}, {'Año': 2017, 'Horas': 135}]}\n",
      "[{'Puesto 1': 'Counter-Strike: Global Offensive'}, {'Puesto 2': \"Garry's Mod\"}, {'Puesto 3': 'Rocket League'}]\n",
      "[{'Puesto 1': \"No Man's Sky\"}, {'Puesto 2': 'Counter-Strike: Global Offensive'}, {'Puesto 3': 'Robocraft'}]\n",
      "{'Negative': 30252, 'Neutral': 245921, 'Positive': 383633}\n"
     ]
    }
   ],
   "source": [
    "a = func_x_endpoints()\n",
    "print(a.PlayTimeGenre('Action'))\n",
    "print(a.UserForGenre('Action'))\n",
    "print(a.UsersRecommend(2000))\n",
    "print(a.UsersNotRecommend(2000))\n",
    "print(a.sentiment_analysis(2000))"
   ]
  }
 ],
 "metadata": {
  "kernelspec": {
   "display_name": "Python 3",
   "language": "python",
   "name": "python3"
  },
  "language_info": {
   "codemirror_mode": {
    "name": "ipython",
    "version": 3
   },
   "file_extension": ".py",
   "mimetype": "text/x-python",
   "name": "python",
   "nbconvert_exporter": "python",
   "pygments_lexer": "ipython3",
   "version": "3.10.11"
  }
 },
 "nbformat": 4,
 "nbformat_minor": 2
}
